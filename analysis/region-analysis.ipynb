{
 "cells": [
  {
   "cell_type": "code",
   "execution_count": 2,
   "id": "abe8a8b1",
   "metadata": {},
   "outputs": [
    {
     "data": {
      "application/vnd.plotly.v1+json": {
       "config": {
        "plotlyServerURL": "https://plot.ly"
       },
       "data": [
        {
         "hovertemplate": "Number of Grievances=%{x}<br>District=%{y}<br>color=%{marker.color}<extra></extra>",
         "legendgroup": "",
         "marker": {
          "color": {
           "bdata": "OD8iP6Q8dzkyOasxiC9WL9AshSw=",
           "dtype": "i2"
          },
          "coloraxis": "coloraxis",
          "pattern": {
           "shape": ""
          }
         },
         "name": "",
         "orientation": "h",
         "showlegend": false,
         "textposition": "auto",
         "type": "bar",
         "x": {
          "bdata": "OD8iP6Q8dzkyOasxiC9WL9AshSw=",
          "dtype": "i2"
         },
         "xaxis": "x",
         "y": [
          "ALIGARH",
          "BADAUN",
          "BAREILLY",
          "SITAPUR",
          "BULANDSHAHAR",
          "SHAHJAHANPUR",
          "LALITPUR",
          "HARDOI",
          "KANPUR DEHAT",
          "JAUNPUR"
         ],
         "yaxis": "y"
        }
       ],
       "layout": {
        "barmode": "relative",
        "coloraxis": {
         "colorbar": {
          "title": {
           "text": "color"
          }
         },
         "colorscale": [
          [
           0,
           "rgb(255,245,235)"
          ],
          [
           0.125,
           "rgb(254,230,206)"
          ],
          [
           0.25,
           "rgb(253,208,162)"
          ],
          [
           0.375,
           "rgb(253,174,107)"
          ],
          [
           0.5,
           "rgb(253,141,60)"
          ],
          [
           0.625,
           "rgb(241,105,19)"
          ],
          [
           0.75,
           "rgb(217,72,1)"
          ],
          [
           0.875,
           "rgb(166,54,3)"
          ],
          [
           1,
           "rgb(127,39,4)"
          ]
         ]
        },
        "legend": {
         "tracegroupgap": 0
        },
        "template": {
         "data": {
          "bar": [
           {
            "error_x": {
             "color": "#2a3f5f"
            },
            "error_y": {
             "color": "#2a3f5f"
            },
            "marker": {
             "line": {
              "color": "#E5ECF6",
              "width": 0.5
             },
             "pattern": {
              "fillmode": "overlay",
              "size": 10,
              "solidity": 0.2
             }
            },
            "type": "bar"
           }
          ],
          "barpolar": [
           {
            "marker": {
             "line": {
              "color": "#E5ECF6",
              "width": 0.5
             },
             "pattern": {
              "fillmode": "overlay",
              "size": 10,
              "solidity": 0.2
             }
            },
            "type": "barpolar"
           }
          ],
          "carpet": [
           {
            "aaxis": {
             "endlinecolor": "#2a3f5f",
             "gridcolor": "white",
             "linecolor": "white",
             "minorgridcolor": "white",
             "startlinecolor": "#2a3f5f"
            },
            "baxis": {
             "endlinecolor": "#2a3f5f",
             "gridcolor": "white",
             "linecolor": "white",
             "minorgridcolor": "white",
             "startlinecolor": "#2a3f5f"
            },
            "type": "carpet"
           }
          ],
          "choropleth": [
           {
            "colorbar": {
             "outlinewidth": 0,
             "ticks": ""
            },
            "type": "choropleth"
           }
          ],
          "contour": [
           {
            "colorbar": {
             "outlinewidth": 0,
             "ticks": ""
            },
            "colorscale": [
             [
              0,
              "#0d0887"
             ],
             [
              0.1111111111111111,
              "#46039f"
             ],
             [
              0.2222222222222222,
              "#7201a8"
             ],
             [
              0.3333333333333333,
              "#9c179e"
             ],
             [
              0.4444444444444444,
              "#bd3786"
             ],
             [
              0.5555555555555556,
              "#d8576b"
             ],
             [
              0.6666666666666666,
              "#ed7953"
             ],
             [
              0.7777777777777778,
              "#fb9f3a"
             ],
             [
              0.8888888888888888,
              "#fdca26"
             ],
             [
              1,
              "#f0f921"
             ]
            ],
            "type": "contour"
           }
          ],
          "contourcarpet": [
           {
            "colorbar": {
             "outlinewidth": 0,
             "ticks": ""
            },
            "type": "contourcarpet"
           }
          ],
          "heatmap": [
           {
            "colorbar": {
             "outlinewidth": 0,
             "ticks": ""
            },
            "colorscale": [
             [
              0,
              "#0d0887"
             ],
             [
              0.1111111111111111,
              "#46039f"
             ],
             [
              0.2222222222222222,
              "#7201a8"
             ],
             [
              0.3333333333333333,
              "#9c179e"
             ],
             [
              0.4444444444444444,
              "#bd3786"
             ],
             [
              0.5555555555555556,
              "#d8576b"
             ],
             [
              0.6666666666666666,
              "#ed7953"
             ],
             [
              0.7777777777777778,
              "#fb9f3a"
             ],
             [
              0.8888888888888888,
              "#fdca26"
             ],
             [
              1,
              "#f0f921"
             ]
            ],
            "type": "heatmap"
           }
          ],
          "histogram": [
           {
            "marker": {
             "pattern": {
              "fillmode": "overlay",
              "size": 10,
              "solidity": 0.2
             }
            },
            "type": "histogram"
           }
          ],
          "histogram2d": [
           {
            "colorbar": {
             "outlinewidth": 0,
             "ticks": ""
            },
            "colorscale": [
             [
              0,
              "#0d0887"
             ],
             [
              0.1111111111111111,
              "#46039f"
             ],
             [
              0.2222222222222222,
              "#7201a8"
             ],
             [
              0.3333333333333333,
              "#9c179e"
             ],
             [
              0.4444444444444444,
              "#bd3786"
             ],
             [
              0.5555555555555556,
              "#d8576b"
             ],
             [
              0.6666666666666666,
              "#ed7953"
             ],
             [
              0.7777777777777778,
              "#fb9f3a"
             ],
             [
              0.8888888888888888,
              "#fdca26"
             ],
             [
              1,
              "#f0f921"
             ]
            ],
            "type": "histogram2d"
           }
          ],
          "histogram2dcontour": [
           {
            "colorbar": {
             "outlinewidth": 0,
             "ticks": ""
            },
            "colorscale": [
             [
              0,
              "#0d0887"
             ],
             [
              0.1111111111111111,
              "#46039f"
             ],
             [
              0.2222222222222222,
              "#7201a8"
             ],
             [
              0.3333333333333333,
              "#9c179e"
             ],
             [
              0.4444444444444444,
              "#bd3786"
             ],
             [
              0.5555555555555556,
              "#d8576b"
             ],
             [
              0.6666666666666666,
              "#ed7953"
             ],
             [
              0.7777777777777778,
              "#fb9f3a"
             ],
             [
              0.8888888888888888,
              "#fdca26"
             ],
             [
              1,
              "#f0f921"
             ]
            ],
            "type": "histogram2dcontour"
           }
          ],
          "mesh3d": [
           {
            "colorbar": {
             "outlinewidth": 0,
             "ticks": ""
            },
            "type": "mesh3d"
           }
          ],
          "parcoords": [
           {
            "line": {
             "colorbar": {
              "outlinewidth": 0,
              "ticks": ""
             }
            },
            "type": "parcoords"
           }
          ],
          "pie": [
           {
            "automargin": true,
            "type": "pie"
           }
          ],
          "scatter": [
           {
            "fillpattern": {
             "fillmode": "overlay",
             "size": 10,
             "solidity": 0.2
            },
            "type": "scatter"
           }
          ],
          "scatter3d": [
           {
            "line": {
             "colorbar": {
              "outlinewidth": 0,
              "ticks": ""
             }
            },
            "marker": {
             "colorbar": {
              "outlinewidth": 0,
              "ticks": ""
             }
            },
            "type": "scatter3d"
           }
          ],
          "scattercarpet": [
           {
            "marker": {
             "colorbar": {
              "outlinewidth": 0,
              "ticks": ""
             }
            },
            "type": "scattercarpet"
           }
          ],
          "scattergeo": [
           {
            "marker": {
             "colorbar": {
              "outlinewidth": 0,
              "ticks": ""
             }
            },
            "type": "scattergeo"
           }
          ],
          "scattergl": [
           {
            "marker": {
             "colorbar": {
              "outlinewidth": 0,
              "ticks": ""
             }
            },
            "type": "scattergl"
           }
          ],
          "scattermap": [
           {
            "marker": {
             "colorbar": {
              "outlinewidth": 0,
              "ticks": ""
             }
            },
            "type": "scattermap"
           }
          ],
          "scattermapbox": [
           {
            "marker": {
             "colorbar": {
              "outlinewidth": 0,
              "ticks": ""
             }
            },
            "type": "scattermapbox"
           }
          ],
          "scatterpolar": [
           {
            "marker": {
             "colorbar": {
              "outlinewidth": 0,
              "ticks": ""
             }
            },
            "type": "scatterpolar"
           }
          ],
          "scatterpolargl": [
           {
            "marker": {
             "colorbar": {
              "outlinewidth": 0,
              "ticks": ""
             }
            },
            "type": "scatterpolargl"
           }
          ],
          "scatterternary": [
           {
            "marker": {
             "colorbar": {
              "outlinewidth": 0,
              "ticks": ""
             }
            },
            "type": "scatterternary"
           }
          ],
          "surface": [
           {
            "colorbar": {
             "outlinewidth": 0,
             "ticks": ""
            },
            "colorscale": [
             [
              0,
              "#0d0887"
             ],
             [
              0.1111111111111111,
              "#46039f"
             ],
             [
              0.2222222222222222,
              "#7201a8"
             ],
             [
              0.3333333333333333,
              "#9c179e"
             ],
             [
              0.4444444444444444,
              "#bd3786"
             ],
             [
              0.5555555555555556,
              "#d8576b"
             ],
             [
              0.6666666666666666,
              "#ed7953"
             ],
             [
              0.7777777777777778,
              "#fb9f3a"
             ],
             [
              0.8888888888888888,
              "#fdca26"
             ],
             [
              1,
              "#f0f921"
             ]
            ],
            "type": "surface"
           }
          ],
          "table": [
           {
            "cells": {
             "fill": {
              "color": "#EBF0F8"
             },
             "line": {
              "color": "white"
             }
            },
            "header": {
             "fill": {
              "color": "#C8D4E3"
             },
             "line": {
              "color": "white"
             }
            },
            "type": "table"
           }
          ]
         },
         "layout": {
          "annotationdefaults": {
           "arrowcolor": "#2a3f5f",
           "arrowhead": 0,
           "arrowwidth": 1
          },
          "autotypenumbers": "strict",
          "coloraxis": {
           "colorbar": {
            "outlinewidth": 0,
            "ticks": ""
           }
          },
          "colorscale": {
           "diverging": [
            [
             0,
             "#8e0152"
            ],
            [
             0.1,
             "#c51b7d"
            ],
            [
             0.2,
             "#de77ae"
            ],
            [
             0.3,
             "#f1b6da"
            ],
            [
             0.4,
             "#fde0ef"
            ],
            [
             0.5,
             "#f7f7f7"
            ],
            [
             0.6,
             "#e6f5d0"
            ],
            [
             0.7,
             "#b8e186"
            ],
            [
             0.8,
             "#7fbc41"
            ],
            [
             0.9,
             "#4d9221"
            ],
            [
             1,
             "#276419"
            ]
           ],
           "sequential": [
            [
             0,
             "#0d0887"
            ],
            [
             0.1111111111111111,
             "#46039f"
            ],
            [
             0.2222222222222222,
             "#7201a8"
            ],
            [
             0.3333333333333333,
             "#9c179e"
            ],
            [
             0.4444444444444444,
             "#bd3786"
            ],
            [
             0.5555555555555556,
             "#d8576b"
            ],
            [
             0.6666666666666666,
             "#ed7953"
            ],
            [
             0.7777777777777778,
             "#fb9f3a"
            ],
            [
             0.8888888888888888,
             "#fdca26"
            ],
            [
             1,
             "#f0f921"
            ]
           ],
           "sequentialminus": [
            [
             0,
             "#0d0887"
            ],
            [
             0.1111111111111111,
             "#46039f"
            ],
            [
             0.2222222222222222,
             "#7201a8"
            ],
            [
             0.3333333333333333,
             "#9c179e"
            ],
            [
             0.4444444444444444,
             "#bd3786"
            ],
            [
             0.5555555555555556,
             "#d8576b"
            ],
            [
             0.6666666666666666,
             "#ed7953"
            ],
            [
             0.7777777777777778,
             "#fb9f3a"
            ],
            [
             0.8888888888888888,
             "#fdca26"
            ],
            [
             1,
             "#f0f921"
            ]
           ]
          },
          "colorway": [
           "#636efa",
           "#EF553B",
           "#00cc96",
           "#ab63fa",
           "#FFA15A",
           "#19d3f3",
           "#FF6692",
           "#B6E880",
           "#FF97FF",
           "#FECB52"
          ],
          "font": {
           "color": "#2a3f5f"
          },
          "geo": {
           "bgcolor": "white",
           "lakecolor": "white",
           "landcolor": "#E5ECF6",
           "showlakes": true,
           "showland": true,
           "subunitcolor": "white"
          },
          "hoverlabel": {
           "align": "left"
          },
          "hovermode": "closest",
          "mapbox": {
           "style": "light"
          },
          "paper_bgcolor": "white",
          "plot_bgcolor": "#E5ECF6",
          "polar": {
           "angularaxis": {
            "gridcolor": "white",
            "linecolor": "white",
            "ticks": ""
           },
           "bgcolor": "#E5ECF6",
           "radialaxis": {
            "gridcolor": "white",
            "linecolor": "white",
            "ticks": ""
           }
          },
          "scene": {
           "xaxis": {
            "backgroundcolor": "#E5ECF6",
            "gridcolor": "white",
            "gridwidth": 2,
            "linecolor": "white",
            "showbackground": true,
            "ticks": "",
            "zerolinecolor": "white"
           },
           "yaxis": {
            "backgroundcolor": "#E5ECF6",
            "gridcolor": "white",
            "gridwidth": 2,
            "linecolor": "white",
            "showbackground": true,
            "ticks": "",
            "zerolinecolor": "white"
           },
           "zaxis": {
            "backgroundcolor": "#E5ECF6",
            "gridcolor": "white",
            "gridwidth": 2,
            "linecolor": "white",
            "showbackground": true,
            "ticks": "",
            "zerolinecolor": "white"
           }
          },
          "shapedefaults": {
           "line": {
            "color": "#2a3f5f"
           }
          },
          "ternary": {
           "aaxis": {
            "gridcolor": "white",
            "linecolor": "white",
            "ticks": ""
           },
           "baxis": {
            "gridcolor": "white",
            "linecolor": "white",
            "ticks": ""
           },
           "bgcolor": "#E5ECF6",
           "caxis": {
            "gridcolor": "white",
            "linecolor": "white",
            "ticks": ""
           }
          },
          "title": {
           "x": 0.05
          },
          "xaxis": {
           "automargin": true,
           "gridcolor": "white",
           "linecolor": "white",
           "ticks": "",
           "title": {
            "standoff": 15
           },
           "zerolinecolor": "white",
           "zerolinewidth": 2
          },
          "yaxis": {
           "automargin": true,
           "gridcolor": "white",
           "linecolor": "white",
           "ticks": "",
           "title": {
            "standoff": 15
           },
           "zerolinecolor": "white",
           "zerolinewidth": 2
          }
         }
        },
        "title": {
         "text": "🏙️ Top 10 Districts with Most Grievances"
        },
        "xaxis": {
         "anchor": "y",
         "domain": [
          0,
          1
         ],
         "title": {
          "text": "Number of Grievances"
         }
        },
        "yaxis": {
         "anchor": "x",
         "domain": [
          0,
          1
         ],
         "title": {
          "text": "District"
         }
        }
       }
      }
     },
     "metadata": {},
     "output_type": "display_data"
    },
    {
     "data": {
      "application/vnd.plotly.v1+json": {
       "config": {
        "plotlyServerURL": "https://plot.ly"
       },
       "data": [
        {
         "coloraxis": "coloraxis",
         "histfunc": "sum",
         "hovertemplate": "StateName=%{x}<br>DistrictName=%{y}<br>sum of Count=%{z}<extra></extra>",
         "name": "",
         "type": "histogram2d",
         "x": [
          "UTTAR PRADESH",
          "UTTAR PRADESH",
          "UTTAR PRADESH",
          "UTTAR PRADESH",
          "UTTAR PRADESH",
          "UTTAR PRADESH",
          "UTTAR PRADESH",
          "UTTAR PRADESH",
          "UTTAR PRADESH",
          "UTTAR PRADESH",
          "UTTAR PRADESH",
          "UTTAR PRADESH",
          "UTTAR PRADESH",
          "UTTAR PRADESH",
          "UTTAR PRADESH",
          "UTTAR PRADESH",
          "UTTAR PRADESH",
          "UTTAR PRADESH",
          "UTTAR PRADESH",
          "UTTAR PRADESH",
          "UTTAR PRADESH",
          "UTTAR PRADESH",
          "UTTAR PRADESH",
          "UTTAR PRADESH",
          "UTTAR PRADESH",
          "UTTAR PRADESH",
          "UTTAR PRADESH",
          "UTTAR PRADESH",
          "UTTAR PRADESH",
          "UTTAR PRADESH",
          "UTTAR PRADESH",
          "UTTAR PRADESH",
          "UTTAR PRADESH",
          "UTTAR PRADESH",
          "UTTAR PRADESH",
          "UTTAR PRADESH",
          "UTTAR PRADESH",
          "UTTAR PRADESH",
          "UTTAR PRADESH",
          "UTTAR PRADESH",
          "UTTAR PRADESH",
          "UTTAR PRADESH",
          "UTTAR PRADESH",
          "UTTAR PRADESH",
          "UTTAR PRADESH",
          "UTTAR PRADESH",
          "UTTAR PRADESH",
          "UTTAR PRADESH",
          "UTTAR PRADESH",
          "UTTAR PRADESH",
          "UTTAR PRADESH",
          "UTTAR PRADESH",
          "UTTAR PRADESH",
          "UTTAR PRADESH",
          "UTTAR PRADESH",
          "UTTAR PRADESH",
          "UTTAR PRADESH",
          "UTTAR PRADESH",
          "UTTAR PRADESH",
          "UTTAR PRADESH",
          "UTTAR PRADESH",
          "UTTAR PRADESH",
          "UTTAR PRADESH",
          "UTTAR PRADESH",
          "UTTAR PRADESH",
          "UTTAR PRADESH",
          "UTTAR PRADESH",
          "UTTAR PRADESH",
          "UTTAR PRADESH",
          "UTTAR PRADESH",
          "UTTAR PRADESH",
          "UTTAR PRADESH",
          "UTTAR PRADESH",
          "UTTAR PRADESH",
          "UTTAR PRADESH",
          "UTTAR PRADESH",
          "UTTAR PRADESH",
          "UTTAR PRADESH",
          "UTTAR PRADESH",
          "UTTAR PRADESH"
         ],
         "xaxis": "x",
         "xbingroup": "x",
         "y": [
          "0   ",
          "9999",
          "AGRA",
          "ALIGARH",
          "ALLAHABAD",
          "AMBEDKAR NAGAR",
          "AMETHI ( Shahu Ji Maharaj)",
          "AMROHA",
          "ARARIA",
          "AURAIYA",
          "AZAMGARH",
          "BADAUN",
          "BAGHPAT",
          "BAHRAICH",
          "BALLIA",
          "BALRAMPUR",
          "BANDA",
          "BARABANKI",
          "BAREILLY",
          "BASTI",
          "BIJNOR",
          "BULANDSHAHAR",
          "CHANDAULI",
          "CHITRAKOOT",
          "DEORIA",
          "ETAH",
          "ETAWAH",
          "FAIZABAD",
          "FARRUKHABAD",
          "FATEHPUR",
          "FIROZABAD",
          "GAUTAM BUDDHA NAGAR",
          "GHAZIABAD",
          "GHAZIPUR",
          "GONDA",
          "GORAKHPUR",
          "HAMIRPUR",
          "HANUMANGARH",
          "HAPUR (PANCHSHEEL NAGAR)",
          "HARDOI",
          "HATHRAS",
          "JALAUN",
          "JAUNPUR",
          "JHANSI",
          "JYOTIBA PHULE NAGAR",
          "KANNAUJ",
          "KANPUR CITY",
          "KANPUR DEHAT",
          "KANSHIRAM NAGAR",
          "KAUSHAMBI",
          "KHERI",
          "KUSHI NAGAR",
          "LALITPUR",
          "LUCKNOW",
          "MAHARAHGANJ",
          "MAHOBA",
          "MAINPURI",
          "MATHURA",
          "MAU",
          "MEERUT",
          "MIRZAPUR",
          "MORADABAD",
          "MUZAFFARNAGAR",
          "PILIBHIT",
          "PRATAPGARH",
          "RAEBARELI",
          "RAMPUR",
          "SAHARANPUR",
          "SAMBAL (BHIM NAGAR)",
          "SANT KABIR NAGAR",
          "SANT RAVIDAS NAGAR BHADOHI",
          "SHAHJAHANPUR",
          "SHAMLI (PRABUDH NAGER)",
          "SHIVASTI",
          "SIDDHARTH NAGAR",
          "SITAPUR",
          "SONBHADRA",
          "SULTANPUR",
          "UNNAO",
          "VARANASI"
         ],
         "yaxis": "y",
         "ybingroup": "y",
         "z": {
          "bdata": "CQAQAOogOD+0KOAWQhKzAwEAwBQfICI/Aw3KGiQVbAozEuUjpDynFBYVMjlDGD0K0hIYLPYVLB2SGQwjqhmwDMUHuiCqJrgY6RcBAGUKVi+8GXUehSyzKjsJkB88FdAs4RpgDP0pSBCIL7YRUBFsEW8paSggDFQVeiF7IrMUwx4iIiEXrx9wHRMblAg0Casx4wrKCGMKdzmIFtke1h37Cw==",
          "dtype": "i2"
         }
        }
       ],
       "layout": {
        "coloraxis": {
         "colorbar": {
          "title": {
           "text": "sum of Count"
          }
         },
         "colorscale": [
          [
           0,
           "rgb(247,251,255)"
          ],
          [
           0.125,
           "rgb(222,235,247)"
          ],
          [
           0.25,
           "rgb(198,219,239)"
          ],
          [
           0.375,
           "rgb(158,202,225)"
          ],
          [
           0.5,
           "rgb(107,174,214)"
          ],
          [
           0.625,
           "rgb(66,146,198)"
          ],
          [
           0.75,
           "rgb(33,113,181)"
          ],
          [
           0.875,
           "rgb(8,81,156)"
          ],
          [
           1,
           "rgb(8,48,107)"
          ]
         ]
        },
        "legend": {
         "tracegroupgap": 0
        },
        "template": {
         "data": {
          "bar": [
           {
            "error_x": {
             "color": "#2a3f5f"
            },
            "error_y": {
             "color": "#2a3f5f"
            },
            "marker": {
             "line": {
              "color": "#E5ECF6",
              "width": 0.5
             },
             "pattern": {
              "fillmode": "overlay",
              "size": 10,
              "solidity": 0.2
             }
            },
            "type": "bar"
           }
          ],
          "barpolar": [
           {
            "marker": {
             "line": {
              "color": "#E5ECF6",
              "width": 0.5
             },
             "pattern": {
              "fillmode": "overlay",
              "size": 10,
              "solidity": 0.2
             }
            },
            "type": "barpolar"
           }
          ],
          "carpet": [
           {
            "aaxis": {
             "endlinecolor": "#2a3f5f",
             "gridcolor": "white",
             "linecolor": "white",
             "minorgridcolor": "white",
             "startlinecolor": "#2a3f5f"
            },
            "baxis": {
             "endlinecolor": "#2a3f5f",
             "gridcolor": "white",
             "linecolor": "white",
             "minorgridcolor": "white",
             "startlinecolor": "#2a3f5f"
            },
            "type": "carpet"
           }
          ],
          "choropleth": [
           {
            "colorbar": {
             "outlinewidth": 0,
             "ticks": ""
            },
            "type": "choropleth"
           }
          ],
          "contour": [
           {
            "colorbar": {
             "outlinewidth": 0,
             "ticks": ""
            },
            "colorscale": [
             [
              0,
              "#0d0887"
             ],
             [
              0.1111111111111111,
              "#46039f"
             ],
             [
              0.2222222222222222,
              "#7201a8"
             ],
             [
              0.3333333333333333,
              "#9c179e"
             ],
             [
              0.4444444444444444,
              "#bd3786"
             ],
             [
              0.5555555555555556,
              "#d8576b"
             ],
             [
              0.6666666666666666,
              "#ed7953"
             ],
             [
              0.7777777777777778,
              "#fb9f3a"
             ],
             [
              0.8888888888888888,
              "#fdca26"
             ],
             [
              1,
              "#f0f921"
             ]
            ],
            "type": "contour"
           }
          ],
          "contourcarpet": [
           {
            "colorbar": {
             "outlinewidth": 0,
             "ticks": ""
            },
            "type": "contourcarpet"
           }
          ],
          "heatmap": [
           {
            "colorbar": {
             "outlinewidth": 0,
             "ticks": ""
            },
            "colorscale": [
             [
              0,
              "#0d0887"
             ],
             [
              0.1111111111111111,
              "#46039f"
             ],
             [
              0.2222222222222222,
              "#7201a8"
             ],
             [
              0.3333333333333333,
              "#9c179e"
             ],
             [
              0.4444444444444444,
              "#bd3786"
             ],
             [
              0.5555555555555556,
              "#d8576b"
             ],
             [
              0.6666666666666666,
              "#ed7953"
             ],
             [
              0.7777777777777778,
              "#fb9f3a"
             ],
             [
              0.8888888888888888,
              "#fdca26"
             ],
             [
              1,
              "#f0f921"
             ]
            ],
            "type": "heatmap"
           }
          ],
          "histogram": [
           {
            "marker": {
             "pattern": {
              "fillmode": "overlay",
              "size": 10,
              "solidity": 0.2
             }
            },
            "type": "histogram"
           }
          ],
          "histogram2d": [
           {
            "colorbar": {
             "outlinewidth": 0,
             "ticks": ""
            },
            "colorscale": [
             [
              0,
              "#0d0887"
             ],
             [
              0.1111111111111111,
              "#46039f"
             ],
             [
              0.2222222222222222,
              "#7201a8"
             ],
             [
              0.3333333333333333,
              "#9c179e"
             ],
             [
              0.4444444444444444,
              "#bd3786"
             ],
             [
              0.5555555555555556,
              "#d8576b"
             ],
             [
              0.6666666666666666,
              "#ed7953"
             ],
             [
              0.7777777777777778,
              "#fb9f3a"
             ],
             [
              0.8888888888888888,
              "#fdca26"
             ],
             [
              1,
              "#f0f921"
             ]
            ],
            "type": "histogram2d"
           }
          ],
          "histogram2dcontour": [
           {
            "colorbar": {
             "outlinewidth": 0,
             "ticks": ""
            },
            "colorscale": [
             [
              0,
              "#0d0887"
             ],
             [
              0.1111111111111111,
              "#46039f"
             ],
             [
              0.2222222222222222,
              "#7201a8"
             ],
             [
              0.3333333333333333,
              "#9c179e"
             ],
             [
              0.4444444444444444,
              "#bd3786"
             ],
             [
              0.5555555555555556,
              "#d8576b"
             ],
             [
              0.6666666666666666,
              "#ed7953"
             ],
             [
              0.7777777777777778,
              "#fb9f3a"
             ],
             [
              0.8888888888888888,
              "#fdca26"
             ],
             [
              1,
              "#f0f921"
             ]
            ],
            "type": "histogram2dcontour"
           }
          ],
          "mesh3d": [
           {
            "colorbar": {
             "outlinewidth": 0,
             "ticks": ""
            },
            "type": "mesh3d"
           }
          ],
          "parcoords": [
           {
            "line": {
             "colorbar": {
              "outlinewidth": 0,
              "ticks": ""
             }
            },
            "type": "parcoords"
           }
          ],
          "pie": [
           {
            "automargin": true,
            "type": "pie"
           }
          ],
          "scatter": [
           {
            "fillpattern": {
             "fillmode": "overlay",
             "size": 10,
             "solidity": 0.2
            },
            "type": "scatter"
           }
          ],
          "scatter3d": [
           {
            "line": {
             "colorbar": {
              "outlinewidth": 0,
              "ticks": ""
             }
            },
            "marker": {
             "colorbar": {
              "outlinewidth": 0,
              "ticks": ""
             }
            },
            "type": "scatter3d"
           }
          ],
          "scattercarpet": [
           {
            "marker": {
             "colorbar": {
              "outlinewidth": 0,
              "ticks": ""
             }
            },
            "type": "scattercarpet"
           }
          ],
          "scattergeo": [
           {
            "marker": {
             "colorbar": {
              "outlinewidth": 0,
              "ticks": ""
             }
            },
            "type": "scattergeo"
           }
          ],
          "scattergl": [
           {
            "marker": {
             "colorbar": {
              "outlinewidth": 0,
              "ticks": ""
             }
            },
            "type": "scattergl"
           }
          ],
          "scattermap": [
           {
            "marker": {
             "colorbar": {
              "outlinewidth": 0,
              "ticks": ""
             }
            },
            "type": "scattermap"
           }
          ],
          "scattermapbox": [
           {
            "marker": {
             "colorbar": {
              "outlinewidth": 0,
              "ticks": ""
             }
            },
            "type": "scattermapbox"
           }
          ],
          "scatterpolar": [
           {
            "marker": {
             "colorbar": {
              "outlinewidth": 0,
              "ticks": ""
             }
            },
            "type": "scatterpolar"
           }
          ],
          "scatterpolargl": [
           {
            "marker": {
             "colorbar": {
              "outlinewidth": 0,
              "ticks": ""
             }
            },
            "type": "scatterpolargl"
           }
          ],
          "scatterternary": [
           {
            "marker": {
             "colorbar": {
              "outlinewidth": 0,
              "ticks": ""
             }
            },
            "type": "scatterternary"
           }
          ],
          "surface": [
           {
            "colorbar": {
             "outlinewidth": 0,
             "ticks": ""
            },
            "colorscale": [
             [
              0,
              "#0d0887"
             ],
             [
              0.1111111111111111,
              "#46039f"
             ],
             [
              0.2222222222222222,
              "#7201a8"
             ],
             [
              0.3333333333333333,
              "#9c179e"
             ],
             [
              0.4444444444444444,
              "#bd3786"
             ],
             [
              0.5555555555555556,
              "#d8576b"
             ],
             [
              0.6666666666666666,
              "#ed7953"
             ],
             [
              0.7777777777777778,
              "#fb9f3a"
             ],
             [
              0.8888888888888888,
              "#fdca26"
             ],
             [
              1,
              "#f0f921"
             ]
            ],
            "type": "surface"
           }
          ],
          "table": [
           {
            "cells": {
             "fill": {
              "color": "#EBF0F8"
             },
             "line": {
              "color": "white"
             }
            },
            "header": {
             "fill": {
              "color": "#C8D4E3"
             },
             "line": {
              "color": "white"
             }
            },
            "type": "table"
           }
          ]
         },
         "layout": {
          "annotationdefaults": {
           "arrowcolor": "#2a3f5f",
           "arrowhead": 0,
           "arrowwidth": 1
          },
          "autotypenumbers": "strict",
          "coloraxis": {
           "colorbar": {
            "outlinewidth": 0,
            "ticks": ""
           }
          },
          "colorscale": {
           "diverging": [
            [
             0,
             "#8e0152"
            ],
            [
             0.1,
             "#c51b7d"
            ],
            [
             0.2,
             "#de77ae"
            ],
            [
             0.3,
             "#f1b6da"
            ],
            [
             0.4,
             "#fde0ef"
            ],
            [
             0.5,
             "#f7f7f7"
            ],
            [
             0.6,
             "#e6f5d0"
            ],
            [
             0.7,
             "#b8e186"
            ],
            [
             0.8,
             "#7fbc41"
            ],
            [
             0.9,
             "#4d9221"
            ],
            [
             1,
             "#276419"
            ]
           ],
           "sequential": [
            [
             0,
             "#0d0887"
            ],
            [
             0.1111111111111111,
             "#46039f"
            ],
            [
             0.2222222222222222,
             "#7201a8"
            ],
            [
             0.3333333333333333,
             "#9c179e"
            ],
            [
             0.4444444444444444,
             "#bd3786"
            ],
            [
             0.5555555555555556,
             "#d8576b"
            ],
            [
             0.6666666666666666,
             "#ed7953"
            ],
            [
             0.7777777777777778,
             "#fb9f3a"
            ],
            [
             0.8888888888888888,
             "#fdca26"
            ],
            [
             1,
             "#f0f921"
            ]
           ],
           "sequentialminus": [
            [
             0,
             "#0d0887"
            ],
            [
             0.1111111111111111,
             "#46039f"
            ],
            [
             0.2222222222222222,
             "#7201a8"
            ],
            [
             0.3333333333333333,
             "#9c179e"
            ],
            [
             0.4444444444444444,
             "#bd3786"
            ],
            [
             0.5555555555555556,
             "#d8576b"
            ],
            [
             0.6666666666666666,
             "#ed7953"
            ],
            [
             0.7777777777777778,
             "#fb9f3a"
            ],
            [
             0.8888888888888888,
             "#fdca26"
            ],
            [
             1,
             "#f0f921"
            ]
           ]
          },
          "colorway": [
           "#636efa",
           "#EF553B",
           "#00cc96",
           "#ab63fa",
           "#FFA15A",
           "#19d3f3",
           "#FF6692",
           "#B6E880",
           "#FF97FF",
           "#FECB52"
          ],
          "font": {
           "color": "#2a3f5f"
          },
          "geo": {
           "bgcolor": "white",
           "lakecolor": "white",
           "landcolor": "#E5ECF6",
           "showlakes": true,
           "showland": true,
           "subunitcolor": "white"
          },
          "hoverlabel": {
           "align": "left"
          },
          "hovermode": "closest",
          "mapbox": {
           "style": "light"
          },
          "paper_bgcolor": "white",
          "plot_bgcolor": "#E5ECF6",
          "polar": {
           "angularaxis": {
            "gridcolor": "white",
            "linecolor": "white",
            "ticks": ""
           },
           "bgcolor": "#E5ECF6",
           "radialaxis": {
            "gridcolor": "white",
            "linecolor": "white",
            "ticks": ""
           }
          },
          "scene": {
           "xaxis": {
            "backgroundcolor": "#E5ECF6",
            "gridcolor": "white",
            "gridwidth": 2,
            "linecolor": "white",
            "showbackground": true,
            "ticks": "",
            "zerolinecolor": "white"
           },
           "yaxis": {
            "backgroundcolor": "#E5ECF6",
            "gridcolor": "white",
            "gridwidth": 2,
            "linecolor": "white",
            "showbackground": true,
            "ticks": "",
            "zerolinecolor": "white"
           },
           "zaxis": {
            "backgroundcolor": "#E5ECF6",
            "gridcolor": "white",
            "gridwidth": 2,
            "linecolor": "white",
            "showbackground": true,
            "ticks": "",
            "zerolinecolor": "white"
           }
          },
          "shapedefaults": {
           "line": {
            "color": "#2a3f5f"
           }
          },
          "ternary": {
           "aaxis": {
            "gridcolor": "white",
            "linecolor": "white",
            "ticks": ""
           },
           "baxis": {
            "gridcolor": "white",
            "linecolor": "white",
            "ticks": ""
           },
           "bgcolor": "#E5ECF6",
           "caxis": {
            "gridcolor": "white",
            "linecolor": "white",
            "ticks": ""
           }
          },
          "title": {
           "x": 0.05
          },
          "xaxis": {
           "automargin": true,
           "gridcolor": "white",
           "linecolor": "white",
           "ticks": "",
           "title": {
            "standoff": 15
           },
           "zerolinecolor": "white",
           "zerolinewidth": 2
          },
          "yaxis": {
           "automargin": true,
           "gridcolor": "white",
           "linecolor": "white",
           "ticks": "",
           "title": {
            "standoff": 15
           },
           "zerolinecolor": "white",
           "zerolinewidth": 2
          }
         }
        },
        "title": {
         "text": "🗺️ District-wise Grievance Heatmap"
        },
        "xaxis": {
         "anchor": "y",
         "domain": [
          0,
          1
         ],
         "title": {
          "text": "StateName"
         }
        },
        "yaxis": {
         "anchor": "x",
         "domain": [
          0,
          1
         ],
         "title": {
          "text": "DistrictName"
         }
        }
       }
      }
     },
     "metadata": {},
     "output_type": "display_data"
    },
    {
     "data": {
      "application/vnd.plotly.v1+json": {
       "config": {
        "plotlyServerURL": "https://plot.ly"
       },
       "data": [
        {
         "branchvalues": "total",
         "domain": {
          "x": [
           0,
           1
          ],
          "y": [
           0,
           1
          ]
         },
         "hovertemplate": "labels=%{label}<br>count=%{value}<br>parent=%{parent}<br>id=%{id}<extra></extra>",
         "ids": [
          "JYOTIBA PHULE NAGAR/AGRICULTURE",
          "JYOTIBA PHULE NAGAR/HORTICULTURE",
          "KANNAUJ/AGRICULTURE",
          "KANNAUJ/HORTICULTURE",
          "KANNAUJ/ANIMAL HUSBANDRY",
          "AURAIYA/AGRICULTURE",
          "AURAIYA/HORTICULTURE",
          "CHANDAULI/AGRICULTURE",
          "CHANDAULI/ANIMAL HUSBANDRY",
          "CHANDAULI/HORTICULTURE",
          "MAHOBA/AGRICULTURE",
          "MAHOBA/HORTICULTURE",
          "CHITRAKOOT/AGRICULTURE",
          "CHITRAKOOT/HORTICULTURE",
          "KAUSHAMBI/AGRICULTURE",
          "KAUSHAMBI/HORTICULTURE",
          "SONBHADRA/AGRICULTURE",
          "SONBHADRA/HORTICULTURE",
          "SONBHADRA/ANIMAL HUSBANDRY",
          "PRATAPGARH/AGRICULTURE",
          "PRATAPGARH/HORTICULTURE",
          "PRATAPGARH/ANIMAL HUSBANDRY",
          "SULTANPUR/AGRICULTURE",
          "SULTANPUR/FISHERIES",
          "SULTANPUR/HORTICULTURE",
          "SULTANPUR/ANIMAL HUSBANDRY",
          "LUCKNOW/AGRICULTURE",
          "LUCKNOW/HORTICULTURE",
          "LUCKNOW/ANIMAL HUSBANDRY",
          "AZAMGARH/HORTICULTURE",
          "AZAMGARH/AGRICULTURE",
          "HARDOI/AGRICULTURE",
          "HARDOI/HORTICULTURE",
          "HARDOI/ANIMAL HUSBANDRY",
          "KHERI/AGRICULTURE",
          "KHERI/HORTICULTURE",
          "FAIZABAD/HORTICULTURE",
          "FAIZABAD/AGRICULTURE",
          "FAIZABAD/ANIMAL HUSBANDRY",
          "RAEBARELI/HORTICULTURE",
          "RAEBARELI/AGRICULTURE",
          "BAHRAICH/AGRICULTURE",
          "BAHRAICH/HORTICULTURE",
          "DEORIA/AGRICULTURE",
          "DEORIA/HORTICULTURE",
          "SANT KABIR NAGAR/HORTICULTURE",
          "SANT KABIR NAGAR/AGRICULTURE",
          "SHIVASTI/HORTICULTURE",
          "SHIVASTI/AGRICULTURE",
          "JAUNPUR/HORTICULTURE",
          "JAUNPUR/AGRICULTURE",
          "JAUNPUR/ANIMAL HUSBANDRY",
          "MIRZAPUR/AGRICULTURE",
          "MIRZAPUR/HORTICULTURE",
          "MIRZAPUR/FISHERIES",
          "MIRZAPUR/ANIMAL HUSBANDRY",
          "JALAUN/AGRICULTURE",
          "JALAUN/HORTICULTURE",
          "JHANSI/HORTICULTURE",
          "JHANSI/AGRICULTURE",
          "HAMIRPUR/AGRICULTURE",
          "HAMIRPUR/HORTICULTURE",
          "VARANASI/AGRICULTURE",
          "VARANASI/HORTICULTURE",
          "BANDA/HORTICULTURE",
          "BANDA/AGRICULTURE",
          "BADAUN/AGRICULTURE",
          "BADAUN/HORTICULTURE",
          "BADAUN/ANIMAL HUSBANDRY",
          "PILIBHIT/AGRICULTURE",
          "PILIBHIT/HORTICULTURE",
          "MAINPURI/AGRICULTURE",
          "MAINPURI/HORTICULTURE",
          "BAREILLY/AGRICULTURE",
          "BAREILLY/HORTICULTURE",
          "BAREILLY/ANIMAL HUSBANDRY",
          "ETAH/AGRICULTURE",
          "ETAH/HORTICULTURE",
          "ETAH/ANIMAL HUSBANDRY",
          "RAMPUR/AGRICULTURE",
          "SHAHJAHANPUR/AGRICULTURE",
          "SHAHJAHANPUR/HORTICULTURE",
          "SAHARANPUR/AGRICULTURE",
          "SAHARANPUR/HORTICULTURE",
          "MEERUT/AGRICULTURE",
          "MEERUT/HORTICULTURE",
          "GHAZIABAD/HORTICULTURE",
          "GHAZIABAD/AGRICULTURE",
          "SITAPUR/AGRICULTURE",
          "SITAPUR/HORTICULTURE",
          "GONDA/AGRICULTURE",
          "GONDA/HORTICULTURE",
          "GONDA/ANIMAL HUSBANDRY",
          "BASTI/HORTICULTURE",
          "BASTI/AGRICULTURE",
          "BASTI/FISHERIES",
          "GHAZIPUR/AGRICULTURE",
          "GHAZIPUR/HORTICULTURE",
          "GHAZIPUR/ANIMAL HUSBANDRY",
          "GORAKHPUR/AGRICULTURE",
          "GORAKHPUR/HORTICULTURE",
          "UNNAO/AGRICULTURE",
          "UNNAO/HORTICULTURE",
          "UNNAO/ANIMAL HUSBANDRY",
          "BALLIA/AGRICULTURE",
          "BALLIA/HORTICULTURE",
          "BALLIA/ANIMAL HUSBANDRY",
          "FARRUKHABAD/HORTICULTURE",
          "FARRUKHABAD/AGRICULTURE",
          "KANPUR CITY/AGRICULTURE",
          "KANPUR CITY/HORTICULTURE",
          "RAMPUR/HORTICULTURE",
          "JHANSI/ANIMAL HUSBANDRY",
          "JHANSI/FISHERIES",
          "ALLAHABAD/AGRICULTURE",
          "ALLAHABAD/HORTICULTURE",
          "FATEHPUR/AGRICULTURE",
          "FATEHPUR/HORTICULTURE",
          "ETAWAH/AGRICULTURE",
          "ETAWAH/HORTICULTURE",
          "MORADABAD/AGRICULTURE",
          "MORADABAD/HORTICULTURE",
          "MORADABAD/ANIMAL HUSBANDRY",
          "LALITPUR/HORTICULTURE",
          "LALITPUR/AGRICULTURE",
          "LALITPUR/ANIMAL HUSBANDRY",
          "BIJNOR/AGRICULTURE",
          "BIJNOR/HORTICULTURE",
          "ALIGARH/AGRICULTURE",
          "ALIGARH/HORTICULTURE",
          "SAHARANPUR/ANIMAL HUSBANDRY",
          "MUZAFFARNAGAR/AGRICULTURE",
          "MUZAFFARNAGAR/HORTICULTURE",
          "MUZAFFARNAGAR/ANIMAL HUSBANDRY",
          "BULANDSHAHAR/AGRICULTURE",
          "BULANDSHAHAR/HORTICULTURE",
          "AGRA/AGRICULTURE",
          "AGRA/HORTICULTURE",
          "AGRA/ANIMAL HUSBANDRY",
          "MATHURA/AGRICULTURE",
          "MATHURA/HORTICULTURE",
          "SAMBAL (BHIM NAGAR)/AGRICULTURE",
          "SAMBAL (BHIM NAGAR)/HORTICULTURE",
          "AMETHI ( Shahu Ji Maharaj)/AGRICULTURE",
          "AMETHI ( Shahu Ji Maharaj)/HORTICULTURE",
          "SHAMLI (PRABUDH NAGER)/AGRICULTURE",
          "SHAMLI (PRABUDH NAGER)/HORTICULTURE",
          "KANPUR DEHAT/AGRICULTURE",
          "KANPUR DEHAT/HORTICULTURE",
          "KANPUR DEHAT/ANIMAL HUSBANDRY",
          "HAPUR (PANCHSHEEL NAGAR)/AGRICULTURE",
          "HAPUR (PANCHSHEEL NAGAR)/HORTICULTURE",
          "AMROHA/AGRICULTURE",
          "AMROHA/HORTICULTURE",
          "KUSHI NAGAR/AGRICULTURE",
          "KUSHI NAGAR/HORTICULTURE",
          "MAU/AGRICULTURE",
          "MAU/HORTICULTURE",
          "MAU/ANIMAL HUSBANDRY",
          "KANSHIRAM NAGAR/AGRICULTURE",
          "KANSHIRAM NAGAR/HORTICULTURE",
          "AMBEDKAR NAGAR/AGRICULTURE",
          "AMBEDKAR NAGAR/HORTICULTURE",
          "MAHARAHGANJ/AGRICULTURE",
          "MAHARAHGANJ/HORTICULTURE",
          "BALRAMPUR/HORTICULTURE",
          "BALRAMPUR/AGRICULTURE",
          "SANT RAVIDAS NAGAR BHADOHI/HORTICULTURE",
          "SANT RAVIDAS NAGAR BHADOHI/AGRICULTURE",
          "SIDDHARTH NAGAR/AGRICULTURE",
          "SIDDHARTH NAGAR/HORTICULTURE",
          "BARABANKI/AGRICULTURE",
          "BARABANKI/HORTICULTURE",
          "HATHRAS/AGRICULTURE",
          "HATHRAS/HORTICULTURE",
          "FIROZABAD/ANIMAL HUSBANDRY",
          "FIROZABAD/AGRICULTURE",
          "FIROZABAD/HORTICULTURE",
          "GAUTAM BUDDHA NAGAR/AGRICULTURE",
          "GAUTAM BUDDHA NAGAR/HORTICULTURE",
          "BAGHPAT/AGRICULTURE",
          "BAGHPAT/HORTICULTURE",
          "0   /AGRICULTURE",
          "AURAIYA/ANIMAL HUSBANDRY",
          "BAGHPAT/ANIMAL HUSBANDRY",
          "SHIVASTI/ANIMAL HUSBANDRY",
          "MAINPURI/ANIMAL HUSBANDRY",
          "GHAZIPUR/FISHERIES",
          "RAEBARELI/ANIMAL HUSBANDRY",
          "GORAKHPUR/ANIMAL HUSBANDRY",
          "MATHURA/ANIMAL HUSBANDRY",
          "BULANDSHAHAR/ANIMAL HUSBANDRY",
          "ALIGARH/ANIMAL HUSBANDRY",
          "MEERUT/ANIMAL HUSBANDRY",
          "KANPUR CITY/ANIMAL HUSBANDRY",
          "PILIBHIT/ANIMAL HUSBANDRY",
          "BIJNOR/ANIMAL HUSBANDRY",
          "HARDOI/FISHERIES",
          "AMBEDKAR NAGAR/FISHERIES",
          "SANT KABIR NAGAR/ANIMAL HUSBANDRY",
          "SIDDHARTH NAGAR/ANIMAL HUSBANDRY",
          "SANT RAVIDAS NAGAR BHADOHI/ANIMAL HUSBANDRY",
          "KUSHI NAGAR/ANIMAL HUSBANDRY",
          "AZAMGARH/ANIMAL HUSBANDRY",
          "MAHARAHGANJ/FISHERIES",
          "HATHRAS/ANIMAL HUSBANDRY",
          "KAUSHAMBI/ANIMAL HUSBANDRY",
          "BALRAMPUR/ANIMAL HUSBANDRY",
          "VARANASI/ANIMAL HUSBANDRY",
          "9999/AGRICULTURE",
          "BASTI/ANIMAL HUSBANDRY",
          "BAREILLY/FISHERIES",
          "SITAPUR/ANIMAL HUSBANDRY",
          "KHERI/ANIMAL HUSBANDRY",
          "SHAMLI (PRABUDH NAGER)/ANIMAL HUSBANDRY",
          "AMBEDKAR NAGAR/ANIMAL HUSBANDRY",
          "BARABANKI/ANIMAL HUSBANDRY",
          "HATHRAS/FISHERIES",
          "GAUTAM BUDDHA NAGAR/ANIMAL HUSBANDRY",
          "JALAUN/ANIMAL HUSBANDRY",
          "AMROHA/ANIMAL HUSBANDRY",
          "SITAPUR/FISHERIES",
          "RAMPUR/FISHERIES",
          "RAMPUR/ANIMAL HUSBANDRY",
          "KANSHIRAM NAGAR/ANIMAL HUSBANDRY",
          "SAHARANPUR/FISHERIES",
          "FATEHPUR/ANIMAL HUSBANDRY",
          "HAPUR (PANCHSHEEL NAGAR)/ANIMAL HUSBANDRY",
          "SIDDHARTH NAGAR/FISHERIES",
          "FARRUKHABAD/ANIMAL HUSBANDRY",
          "MATHURA/FISHERIES",
          "ALLAHABAD/ANIMAL HUSBANDRY",
          "HAMIRPUR/ANIMAL HUSBANDRY",
          "FAIZABAD/FISHERIES",
          "BAHRAICH/ANIMAL HUSBANDRY",
          "JYOTIBA PHULE NAGAR/FISHERIES",
          "BULANDSHAHAR/FISHERIES",
          "JAUNPUR/FISHERIES",
          "RAEBARELI/FISHERIES",
          "PRATAPGARH/FISHERIES",
          "BANDA/ANIMAL HUSBANDRY",
          "SAMBAL (BHIM NAGAR)/ANIMAL HUSBANDRY",
          "GHAZIABAD/ANIMAL HUSBANDRY",
          "MAHOBA/ANIMAL HUSBANDRY",
          "FATEHPUR/FISHERIES",
          "KHERI/FISHERIES",
          "DEORIA/FISHERIES",
          "VARANASI/FISHERIES",
          "MAHARAHGANJ/ANIMAL HUSBANDRY",
          "CHANDAULI/FISHERIES",
          "FIROZABAD/FISHERIES",
          "SHAHJAHANPUR/ANIMAL HUSBANDRY",
          "CHITRAKOOT/ANIMAL HUSBANDRY",
          "GONDA/FISHERIES",
          "AZAMGARH/FISHERIES",
          "AURAIYA/FISHERIES",
          "ETAWAH/ANIMAL HUSBANDRY",
          "MEERUT/FISHERIES",
          "DEORIA/ANIMAL HUSBANDRY",
          "LUCKNOW/FISHERIES",
          "ALLAHABAD/FISHERIES",
          "MORADABAD/FISHERIES",
          "KUSHI NAGAR/FISHERIES",
          "AMETHI ( Shahu Ji Maharaj)/ANIMAL HUSBANDRY",
          "GHAZIABAD/FISHERIES",
          "KANNAUJ/FISHERIES",
          "BAHRAICH/FISHERIES",
          "HAPUR (PANCHSHEEL NAGAR)/FISHERIES",
          "GAUTAM BUDDHA NAGAR/FISHERIES",
          "AMETHI ( Shahu Ji Maharaj)/FISHERIES",
          "UNNAO/FISHERIES",
          "HAMIRPUR/FISHERIES",
          "JYOTIBA PHULE NAGAR/ANIMAL HUSBANDRY",
          "9999/HORTICULTURE",
          "PILIBHIT/FISHERIES",
          "MAU/FISHERIES",
          "SHIVASTI/FISHERIES",
          "BALLIA/FISHERIES",
          "KANPUR DEHAT/FISHERIES",
          "ETAWAH/FISHERIES",
          "BARABANKI/FISHERIES",
          "JALAUN/FISHERIES",
          "0   /HORTICULTURE",
          "BIJNOR/FISHERIES",
          "GORAKHPUR/FISHERIES",
          "ARARIA/AGRICULTURE",
          "HANUMANGARH/AGRICULTURE",
          "SANT KABIR NAGAR/FISHERIES",
          "KAUSHAMBI/FISHERIES",
          "SHAHJAHANPUR/FISHERIES",
          "ETAH/FISHERIES",
          "MAINPURI/FISHERIES",
          "KANPUR CITY/FISHERIES",
          "BALRAMPUR/FISHERIES",
          "AGRA/FISHERIES",
          "JYOTIBA PHULE NAGAR",
          "KANNAUJ",
          "AURAIYA",
          "CHANDAULI",
          "MAHOBA",
          "CHITRAKOOT",
          "KAUSHAMBI",
          "SONBHADRA",
          "PRATAPGARH",
          "SULTANPUR",
          "LUCKNOW",
          "AZAMGARH",
          "HARDOI",
          "KHERI",
          "FAIZABAD",
          "RAEBARELI",
          "BAHRAICH",
          "DEORIA",
          "SANT KABIR NAGAR",
          "SHIVASTI",
          "JAUNPUR",
          "MIRZAPUR",
          "JALAUN",
          "JHANSI",
          "HAMIRPUR",
          "VARANASI",
          "BANDA",
          "BADAUN",
          "PILIBHIT",
          "MAINPURI",
          "BAREILLY",
          "ETAH",
          "RAMPUR",
          "SHAHJAHANPUR",
          "SAHARANPUR",
          "MEERUT",
          "GHAZIABAD",
          "SITAPUR",
          "GONDA",
          "BASTI",
          "GHAZIPUR",
          "GORAKHPUR",
          "UNNAO",
          "BALLIA",
          "FARRUKHABAD",
          "KANPUR CITY",
          "ALLAHABAD",
          "FATEHPUR",
          "ETAWAH",
          "MORADABAD",
          "LALITPUR",
          "BIJNOR",
          "ALIGARH",
          "MUZAFFARNAGAR",
          "BULANDSHAHAR",
          "AGRA",
          "MATHURA",
          "SAMBAL (BHIM NAGAR)",
          "AMETHI ( Shahu Ji Maharaj)",
          "SHAMLI (PRABUDH NAGER)",
          "KANPUR DEHAT",
          "HAPUR (PANCHSHEEL NAGAR)",
          "AMROHA",
          "KUSHI NAGAR",
          "MAU",
          "KANSHIRAM NAGAR",
          "AMBEDKAR NAGAR",
          "MAHARAHGANJ",
          "BALRAMPUR",
          "SANT RAVIDAS NAGAR BHADOHI",
          "SIDDHARTH NAGAR",
          "BARABANKI",
          "HATHRAS",
          "FIROZABAD",
          "GAUTAM BUDDHA NAGAR",
          "BAGHPAT",
          "0   ",
          "9999",
          "ARARIA",
          "HANUMANGARH"
         ],
         "labels": [
          "AGRICULTURE",
          "HORTICULTURE",
          "AGRICULTURE",
          "HORTICULTURE",
          "ANIMAL HUSBANDRY",
          "AGRICULTURE",
          "HORTICULTURE",
          "AGRICULTURE",
          "ANIMAL HUSBANDRY",
          "HORTICULTURE",
          "AGRICULTURE",
          "HORTICULTURE",
          "AGRICULTURE",
          "HORTICULTURE",
          "AGRICULTURE",
          "HORTICULTURE",
          "AGRICULTURE",
          "HORTICULTURE",
          "ANIMAL HUSBANDRY",
          "AGRICULTURE",
          "HORTICULTURE",
          "ANIMAL HUSBANDRY",
          "AGRICULTURE",
          "FISHERIES",
          "HORTICULTURE",
          "ANIMAL HUSBANDRY",
          "AGRICULTURE",
          "HORTICULTURE",
          "ANIMAL HUSBANDRY",
          "HORTICULTURE",
          "AGRICULTURE",
          "AGRICULTURE",
          "HORTICULTURE",
          "ANIMAL HUSBANDRY",
          "AGRICULTURE",
          "HORTICULTURE",
          "HORTICULTURE",
          "AGRICULTURE",
          "ANIMAL HUSBANDRY",
          "HORTICULTURE",
          "AGRICULTURE",
          "AGRICULTURE",
          "HORTICULTURE",
          "AGRICULTURE",
          "HORTICULTURE",
          "HORTICULTURE",
          "AGRICULTURE",
          "HORTICULTURE",
          "AGRICULTURE",
          "HORTICULTURE",
          "AGRICULTURE",
          "ANIMAL HUSBANDRY",
          "AGRICULTURE",
          "HORTICULTURE",
          "FISHERIES",
          "ANIMAL HUSBANDRY",
          "AGRICULTURE",
          "HORTICULTURE",
          "HORTICULTURE",
          "AGRICULTURE",
          "AGRICULTURE",
          "HORTICULTURE",
          "AGRICULTURE",
          "HORTICULTURE",
          "HORTICULTURE",
          "AGRICULTURE",
          "AGRICULTURE",
          "HORTICULTURE",
          "ANIMAL HUSBANDRY",
          "AGRICULTURE",
          "HORTICULTURE",
          "AGRICULTURE",
          "HORTICULTURE",
          "AGRICULTURE",
          "HORTICULTURE",
          "ANIMAL HUSBANDRY",
          "AGRICULTURE",
          "HORTICULTURE",
          "ANIMAL HUSBANDRY",
          "AGRICULTURE",
          "AGRICULTURE",
          "HORTICULTURE",
          "AGRICULTURE",
          "HORTICULTURE",
          "AGRICULTURE",
          "HORTICULTURE",
          "HORTICULTURE",
          "AGRICULTURE",
          "AGRICULTURE",
          "HORTICULTURE",
          "AGRICULTURE",
          "HORTICULTURE",
          "ANIMAL HUSBANDRY",
          "HORTICULTURE",
          "AGRICULTURE",
          "FISHERIES",
          "AGRICULTURE",
          "HORTICULTURE",
          "ANIMAL HUSBANDRY",
          "AGRICULTURE",
          "HORTICULTURE",
          "AGRICULTURE",
          "HORTICULTURE",
          "ANIMAL HUSBANDRY",
          "AGRICULTURE",
          "HORTICULTURE",
          "ANIMAL HUSBANDRY",
          "HORTICULTURE",
          "AGRICULTURE",
          "AGRICULTURE",
          "HORTICULTURE",
          "HORTICULTURE",
          "ANIMAL HUSBANDRY",
          "FISHERIES",
          "AGRICULTURE",
          "HORTICULTURE",
          "AGRICULTURE",
          "HORTICULTURE",
          "AGRICULTURE",
          "HORTICULTURE",
          "AGRICULTURE",
          "HORTICULTURE",
          "ANIMAL HUSBANDRY",
          "HORTICULTURE",
          "AGRICULTURE",
          "ANIMAL HUSBANDRY",
          "AGRICULTURE",
          "HORTICULTURE",
          "AGRICULTURE",
          "HORTICULTURE",
          "ANIMAL HUSBANDRY",
          "AGRICULTURE",
          "HORTICULTURE",
          "ANIMAL HUSBANDRY",
          "AGRICULTURE",
          "HORTICULTURE",
          "AGRICULTURE",
          "HORTICULTURE",
          "ANIMAL HUSBANDRY",
          "AGRICULTURE",
          "HORTICULTURE",
          "AGRICULTURE",
          "HORTICULTURE",
          "AGRICULTURE",
          "HORTICULTURE",
          "AGRICULTURE",
          "HORTICULTURE",
          "AGRICULTURE",
          "HORTICULTURE",
          "ANIMAL HUSBANDRY",
          "AGRICULTURE",
          "HORTICULTURE",
          "AGRICULTURE",
          "HORTICULTURE",
          "AGRICULTURE",
          "HORTICULTURE",
          "AGRICULTURE",
          "HORTICULTURE",
          "ANIMAL HUSBANDRY",
          "AGRICULTURE",
          "HORTICULTURE",
          "AGRICULTURE",
          "HORTICULTURE",
          "AGRICULTURE",
          "HORTICULTURE",
          "HORTICULTURE",
          "AGRICULTURE",
          "HORTICULTURE",
          "AGRICULTURE",
          "AGRICULTURE",
          "HORTICULTURE",
          "AGRICULTURE",
          "HORTICULTURE",
          "AGRICULTURE",
          "HORTICULTURE",
          "ANIMAL HUSBANDRY",
          "AGRICULTURE",
          "HORTICULTURE",
          "AGRICULTURE",
          "HORTICULTURE",
          "AGRICULTURE",
          "HORTICULTURE",
          "AGRICULTURE",
          "ANIMAL HUSBANDRY",
          "ANIMAL HUSBANDRY",
          "ANIMAL HUSBANDRY",
          "ANIMAL HUSBANDRY",
          "FISHERIES",
          "ANIMAL HUSBANDRY",
          "ANIMAL HUSBANDRY",
          "ANIMAL HUSBANDRY",
          "ANIMAL HUSBANDRY",
          "ANIMAL HUSBANDRY",
          "ANIMAL HUSBANDRY",
          "ANIMAL HUSBANDRY",
          "ANIMAL HUSBANDRY",
          "ANIMAL HUSBANDRY",
          "FISHERIES",
          "FISHERIES",
          "ANIMAL HUSBANDRY",
          "ANIMAL HUSBANDRY",
          "ANIMAL HUSBANDRY",
          "ANIMAL HUSBANDRY",
          "ANIMAL HUSBANDRY",
          "FISHERIES",
          "ANIMAL HUSBANDRY",
          "ANIMAL HUSBANDRY",
          "ANIMAL HUSBANDRY",
          "ANIMAL HUSBANDRY",
          "AGRICULTURE",
          "ANIMAL HUSBANDRY",
          "FISHERIES",
          "ANIMAL HUSBANDRY",
          "ANIMAL HUSBANDRY",
          "ANIMAL HUSBANDRY",
          "ANIMAL HUSBANDRY",
          "ANIMAL HUSBANDRY",
          "FISHERIES",
          "ANIMAL HUSBANDRY",
          "ANIMAL HUSBANDRY",
          "ANIMAL HUSBANDRY",
          "FISHERIES",
          "FISHERIES",
          "ANIMAL HUSBANDRY",
          "ANIMAL HUSBANDRY",
          "FISHERIES",
          "ANIMAL HUSBANDRY",
          "ANIMAL HUSBANDRY",
          "FISHERIES",
          "ANIMAL HUSBANDRY",
          "FISHERIES",
          "ANIMAL HUSBANDRY",
          "ANIMAL HUSBANDRY",
          "FISHERIES",
          "ANIMAL HUSBANDRY",
          "FISHERIES",
          "FISHERIES",
          "FISHERIES",
          "FISHERIES",
          "FISHERIES",
          "ANIMAL HUSBANDRY",
          "ANIMAL HUSBANDRY",
          "ANIMAL HUSBANDRY",
          "ANIMAL HUSBANDRY",
          "FISHERIES",
          "FISHERIES",
          "FISHERIES",
          "FISHERIES",
          "ANIMAL HUSBANDRY",
          "FISHERIES",
          "FISHERIES",
          "ANIMAL HUSBANDRY",
          "ANIMAL HUSBANDRY",
          "FISHERIES",
          "FISHERIES",
          "FISHERIES",
          "ANIMAL HUSBANDRY",
          "FISHERIES",
          "ANIMAL HUSBANDRY",
          "FISHERIES",
          "FISHERIES",
          "FISHERIES",
          "FISHERIES",
          "ANIMAL HUSBANDRY",
          "FISHERIES",
          "FISHERIES",
          "FISHERIES",
          "FISHERIES",
          "FISHERIES",
          "FISHERIES",
          "FISHERIES",
          "FISHERIES",
          "ANIMAL HUSBANDRY",
          "HORTICULTURE",
          "FISHERIES",
          "FISHERIES",
          "FISHERIES",
          "FISHERIES",
          "FISHERIES",
          "FISHERIES",
          "FISHERIES",
          "FISHERIES",
          "HORTICULTURE",
          "FISHERIES",
          "FISHERIES",
          "AGRICULTURE",
          "AGRICULTURE",
          "FISHERIES",
          "FISHERIES",
          "FISHERIES",
          "FISHERIES",
          "FISHERIES",
          "FISHERIES",
          "FISHERIES",
          "FISHERIES",
          "JYOTIBA PHULE NAGAR",
          "KANNAUJ",
          "AURAIYA",
          "CHANDAULI",
          "MAHOBA",
          "CHITRAKOOT",
          "KAUSHAMBI",
          "SONBHADRA",
          "PRATAPGARH",
          "SULTANPUR",
          "LUCKNOW",
          "AZAMGARH",
          "HARDOI",
          "KHERI",
          "FAIZABAD",
          "RAEBARELI",
          "BAHRAICH",
          "DEORIA",
          "SANT KABIR NAGAR",
          "SHIVASTI",
          "JAUNPUR",
          "MIRZAPUR",
          "JALAUN",
          "JHANSI",
          "HAMIRPUR",
          "VARANASI",
          "BANDA",
          "BADAUN",
          "PILIBHIT",
          "MAINPURI",
          "BAREILLY",
          "ETAH",
          "RAMPUR",
          "SHAHJAHANPUR",
          "SAHARANPUR",
          "MEERUT",
          "GHAZIABAD",
          "SITAPUR",
          "GONDA",
          "BASTI",
          "GHAZIPUR",
          "GORAKHPUR",
          "UNNAO",
          "BALLIA",
          "FARRUKHABAD",
          "KANPUR CITY",
          "ALLAHABAD",
          "FATEHPUR",
          "ETAWAH",
          "MORADABAD",
          "LALITPUR",
          "BIJNOR",
          "ALIGARH",
          "MUZAFFARNAGAR",
          "BULANDSHAHAR",
          "AGRA",
          "MATHURA",
          "SAMBAL (BHIM NAGAR)",
          "AMETHI ( Shahu Ji Maharaj)",
          "SHAMLI (PRABUDH NAGER)",
          "KANPUR DEHAT",
          "HAPUR (PANCHSHEEL NAGAR)",
          "AMROHA",
          "KUSHI NAGAR",
          "MAU",
          "KANSHIRAM NAGAR",
          "AMBEDKAR NAGAR",
          "MAHARAHGANJ",
          "BALRAMPUR",
          "SANT RAVIDAS NAGAR BHADOHI",
          "SIDDHARTH NAGAR",
          "BARABANKI",
          "HATHRAS",
          "FIROZABAD",
          "GAUTAM BUDDHA NAGAR",
          "BAGHPAT",
          "0   ",
          "9999",
          "ARARIA",
          "HANUMANGARH"
         ],
         "name": "",
         "parents": [
          "JYOTIBA PHULE NAGAR",
          "JYOTIBA PHULE NAGAR",
          "KANNAUJ",
          "KANNAUJ",
          "KANNAUJ",
          "AURAIYA",
          "AURAIYA",
          "CHANDAULI",
          "CHANDAULI",
          "CHANDAULI",
          "MAHOBA",
          "MAHOBA",
          "CHITRAKOOT",
          "CHITRAKOOT",
          "KAUSHAMBI",
          "KAUSHAMBI",
          "SONBHADRA",
          "SONBHADRA",
          "SONBHADRA",
          "PRATAPGARH",
          "PRATAPGARH",
          "PRATAPGARH",
          "SULTANPUR",
          "SULTANPUR",
          "SULTANPUR",
          "SULTANPUR",
          "LUCKNOW",
          "LUCKNOW",
          "LUCKNOW",
          "AZAMGARH",
          "AZAMGARH",
          "HARDOI",
          "HARDOI",
          "HARDOI",
          "KHERI",
          "KHERI",
          "FAIZABAD",
          "FAIZABAD",
          "FAIZABAD",
          "RAEBARELI",
          "RAEBARELI",
          "BAHRAICH",
          "BAHRAICH",
          "DEORIA",
          "DEORIA",
          "SANT KABIR NAGAR",
          "SANT KABIR NAGAR",
          "SHIVASTI",
          "SHIVASTI",
          "JAUNPUR",
          "JAUNPUR",
          "JAUNPUR",
          "MIRZAPUR",
          "MIRZAPUR",
          "MIRZAPUR",
          "MIRZAPUR",
          "JALAUN",
          "JALAUN",
          "JHANSI",
          "JHANSI",
          "HAMIRPUR",
          "HAMIRPUR",
          "VARANASI",
          "VARANASI",
          "BANDA",
          "BANDA",
          "BADAUN",
          "BADAUN",
          "BADAUN",
          "PILIBHIT",
          "PILIBHIT",
          "MAINPURI",
          "MAINPURI",
          "BAREILLY",
          "BAREILLY",
          "BAREILLY",
          "ETAH",
          "ETAH",
          "ETAH",
          "RAMPUR",
          "SHAHJAHANPUR",
          "SHAHJAHANPUR",
          "SAHARANPUR",
          "SAHARANPUR",
          "MEERUT",
          "MEERUT",
          "GHAZIABAD",
          "GHAZIABAD",
          "SITAPUR",
          "SITAPUR",
          "GONDA",
          "GONDA",
          "GONDA",
          "BASTI",
          "BASTI",
          "BASTI",
          "GHAZIPUR",
          "GHAZIPUR",
          "GHAZIPUR",
          "GORAKHPUR",
          "GORAKHPUR",
          "UNNAO",
          "UNNAO",
          "UNNAO",
          "BALLIA",
          "BALLIA",
          "BALLIA",
          "FARRUKHABAD",
          "FARRUKHABAD",
          "KANPUR CITY",
          "KANPUR CITY",
          "RAMPUR",
          "JHANSI",
          "JHANSI",
          "ALLAHABAD",
          "ALLAHABAD",
          "FATEHPUR",
          "FATEHPUR",
          "ETAWAH",
          "ETAWAH",
          "MORADABAD",
          "MORADABAD",
          "MORADABAD",
          "LALITPUR",
          "LALITPUR",
          "LALITPUR",
          "BIJNOR",
          "BIJNOR",
          "ALIGARH",
          "ALIGARH",
          "SAHARANPUR",
          "MUZAFFARNAGAR",
          "MUZAFFARNAGAR",
          "MUZAFFARNAGAR",
          "BULANDSHAHAR",
          "BULANDSHAHAR",
          "AGRA",
          "AGRA",
          "AGRA",
          "MATHURA",
          "MATHURA",
          "SAMBAL (BHIM NAGAR)",
          "SAMBAL (BHIM NAGAR)",
          "AMETHI ( Shahu Ji Maharaj)",
          "AMETHI ( Shahu Ji Maharaj)",
          "SHAMLI (PRABUDH NAGER)",
          "SHAMLI (PRABUDH NAGER)",
          "KANPUR DEHAT",
          "KANPUR DEHAT",
          "KANPUR DEHAT",
          "HAPUR (PANCHSHEEL NAGAR)",
          "HAPUR (PANCHSHEEL NAGAR)",
          "AMROHA",
          "AMROHA",
          "KUSHI NAGAR",
          "KUSHI NAGAR",
          "MAU",
          "MAU",
          "MAU",
          "KANSHIRAM NAGAR",
          "KANSHIRAM NAGAR",
          "AMBEDKAR NAGAR",
          "AMBEDKAR NAGAR",
          "MAHARAHGANJ",
          "MAHARAHGANJ",
          "BALRAMPUR",
          "BALRAMPUR",
          "SANT RAVIDAS NAGAR BHADOHI",
          "SANT RAVIDAS NAGAR BHADOHI",
          "SIDDHARTH NAGAR",
          "SIDDHARTH NAGAR",
          "BARABANKI",
          "BARABANKI",
          "HATHRAS",
          "HATHRAS",
          "FIROZABAD",
          "FIROZABAD",
          "FIROZABAD",
          "GAUTAM BUDDHA NAGAR",
          "GAUTAM BUDDHA NAGAR",
          "BAGHPAT",
          "BAGHPAT",
          "0   ",
          "AURAIYA",
          "BAGHPAT",
          "SHIVASTI",
          "MAINPURI",
          "GHAZIPUR",
          "RAEBARELI",
          "GORAKHPUR",
          "MATHURA",
          "BULANDSHAHAR",
          "ALIGARH",
          "MEERUT",
          "KANPUR CITY",
          "PILIBHIT",
          "BIJNOR",
          "HARDOI",
          "AMBEDKAR NAGAR",
          "SANT KABIR NAGAR",
          "SIDDHARTH NAGAR",
          "SANT RAVIDAS NAGAR BHADOHI",
          "KUSHI NAGAR",
          "AZAMGARH",
          "MAHARAHGANJ",
          "HATHRAS",
          "KAUSHAMBI",
          "BALRAMPUR",
          "VARANASI",
          "9999",
          "BASTI",
          "BAREILLY",
          "SITAPUR",
          "KHERI",
          "SHAMLI (PRABUDH NAGER)",
          "AMBEDKAR NAGAR",
          "BARABANKI",
          "HATHRAS",
          "GAUTAM BUDDHA NAGAR",
          "JALAUN",
          "AMROHA",
          "SITAPUR",
          "RAMPUR",
          "RAMPUR",
          "KANSHIRAM NAGAR",
          "SAHARANPUR",
          "FATEHPUR",
          "HAPUR (PANCHSHEEL NAGAR)",
          "SIDDHARTH NAGAR",
          "FARRUKHABAD",
          "MATHURA",
          "ALLAHABAD",
          "HAMIRPUR",
          "FAIZABAD",
          "BAHRAICH",
          "JYOTIBA PHULE NAGAR",
          "BULANDSHAHAR",
          "JAUNPUR",
          "RAEBARELI",
          "PRATAPGARH",
          "BANDA",
          "SAMBAL (BHIM NAGAR)",
          "GHAZIABAD",
          "MAHOBA",
          "FATEHPUR",
          "KHERI",
          "DEORIA",
          "VARANASI",
          "MAHARAHGANJ",
          "CHANDAULI",
          "FIROZABAD",
          "SHAHJAHANPUR",
          "CHITRAKOOT",
          "GONDA",
          "AZAMGARH",
          "AURAIYA",
          "ETAWAH",
          "MEERUT",
          "DEORIA",
          "LUCKNOW",
          "ALLAHABAD",
          "MORADABAD",
          "KUSHI NAGAR",
          "AMETHI ( Shahu Ji Maharaj)",
          "GHAZIABAD",
          "KANNAUJ",
          "BAHRAICH",
          "HAPUR (PANCHSHEEL NAGAR)",
          "GAUTAM BUDDHA NAGAR",
          "AMETHI ( Shahu Ji Maharaj)",
          "UNNAO",
          "HAMIRPUR",
          "JYOTIBA PHULE NAGAR",
          "9999",
          "PILIBHIT",
          "MAU",
          "SHIVASTI",
          "BALLIA",
          "KANPUR DEHAT",
          "ETAWAH",
          "BARABANKI",
          "JALAUN",
          "0   ",
          "BIJNOR",
          "GORAKHPUR",
          "ARARIA",
          "HANUMANGARH",
          "SANT KABIR NAGAR",
          "KAUSHAMBI",
          "SHAHJAHANPUR",
          "ETAH",
          "MAINPURI",
          "KANPUR CITY",
          "BALRAMPUR",
          "AGRA",
          "",
          "",
          "",
          "",
          "",
          "",
          "",
          "",
          "",
          "",
          "",
          "",
          "",
          "",
          "",
          "",
          "",
          "",
          "",
          "",
          "",
          "",
          "",
          "",
          "",
          "",
          "",
          "",
          "",
          "",
          "",
          "",
          "",
          "",
          "",
          "",
          "",
          "",
          "",
          "",
          "",
          "",
          "",
          "",
          "",
          "",
          "",
          "",
          "",
          "",
          "",
          "",
          "",
          "",
          "",
          "",
          "",
          "",
          "",
          "",
          "",
          "",
          "",
          "",
          "",
          "",
          "",
          "",
          "",
          "",
          "",
          "",
          "",
          "",
          "",
          "",
          "",
          "",
          "",
          ""
         ],
         "type": "treemap",
         "values": {
          "bdata": "BggrASgaSwUcAJESGQL0FCQAJQPbD34BaAnGAEkKCwJOERsFHwCpG0wGKQC4GQQA/gQfAGwMNQUTACAE0htKKdsFLwApJagEDAblFjgAgAN6E0EXZgNSEG8CRAFFBzUBhgflBl0lOwAoHBgFBgA0AEwaEwQGA4YnWhV7Ah8JtQIFARgRrTVHCS4ASBxmAgslRAQmNQ0HawDrJwgEJACtHHUtDAQ+GQUEfBOyAXwBNAbjLlIKXyEqBR0AeAIaEgQAMRpcBiQAYRQsBBYYmgUiAGcSoAIcAIsE9hTcEUsD5gIhAAYAzSGrBqgcRAbMExwCISA+AhgAjALZLCMAvxMvAUo5yAUoAC0TZgEgAN4zKAXpGs8FMACdJbMCtBg8AmwQzAF2CVgB0CjVAyoA2gh+AV8DTgASDhUCOwrRARMAyhYNBDkTggOZD6oBrAG2CIcBnwcnCSYBDhm0CpAUEgUZAEkWRgOaCwABwwssAQcAFAAUAA0AHwAJACQAKAAYACsAJgAlABQAFAAmAAIAAgAJABAADgAcACkAAQAXAAsACQAjAA0AEQAGADwAKAAVACMAIQADABUAFQAGAAYAAwAZAAoABQAeAAsABgARAAEAOQARAAMAHgABAAEACAADAAQAFgAjABMAEwACAAQABAAEAAwABgACACkADwAEAAQAAgANAAEADQACAAMABAAFAAkAAgABAAUAAgABAAEABAADAAkAAwABAAEAAgABAAEAAQACAAEAAgACAAMAAQABAAIAAQABAAEAAQABAAEAAgA7CZAfwBRDGGwRPQpgDIgWIiLZHrYRHyBWL/0pLB0hF8oa0hKUCMoIhSx6IXUesyrpF/sLMxIiP8MebymkPBgsrx+rMXAdVBXFB3c5qianFLoguBjWHSQVkhk8FbQoDCP2FXsiiC8WFTg/sxQyOeogaSgTG0IS4wrQLGUKswNIECAM4RrgFlARbAo0CWMK5SO8GaoZsAwDDQkAEAABAAEA",
          "dtype": "i2"
         }
        }
       ],
       "layout": {
        "legend": {
         "tracegroupgap": 0
        },
        "template": {
         "data": {
          "bar": [
           {
            "error_x": {
             "color": "#2a3f5f"
            },
            "error_y": {
             "color": "#2a3f5f"
            },
            "marker": {
             "line": {
              "color": "#E5ECF6",
              "width": 0.5
             },
             "pattern": {
              "fillmode": "overlay",
              "size": 10,
              "solidity": 0.2
             }
            },
            "type": "bar"
           }
          ],
          "barpolar": [
           {
            "marker": {
             "line": {
              "color": "#E5ECF6",
              "width": 0.5
             },
             "pattern": {
              "fillmode": "overlay",
              "size": 10,
              "solidity": 0.2
             }
            },
            "type": "barpolar"
           }
          ],
          "carpet": [
           {
            "aaxis": {
             "endlinecolor": "#2a3f5f",
             "gridcolor": "white",
             "linecolor": "white",
             "minorgridcolor": "white",
             "startlinecolor": "#2a3f5f"
            },
            "baxis": {
             "endlinecolor": "#2a3f5f",
             "gridcolor": "white",
             "linecolor": "white",
             "minorgridcolor": "white",
             "startlinecolor": "#2a3f5f"
            },
            "type": "carpet"
           }
          ],
          "choropleth": [
           {
            "colorbar": {
             "outlinewidth": 0,
             "ticks": ""
            },
            "type": "choropleth"
           }
          ],
          "contour": [
           {
            "colorbar": {
             "outlinewidth": 0,
             "ticks": ""
            },
            "colorscale": [
             [
              0,
              "#0d0887"
             ],
             [
              0.1111111111111111,
              "#46039f"
             ],
             [
              0.2222222222222222,
              "#7201a8"
             ],
             [
              0.3333333333333333,
              "#9c179e"
             ],
             [
              0.4444444444444444,
              "#bd3786"
             ],
             [
              0.5555555555555556,
              "#d8576b"
             ],
             [
              0.6666666666666666,
              "#ed7953"
             ],
             [
              0.7777777777777778,
              "#fb9f3a"
             ],
             [
              0.8888888888888888,
              "#fdca26"
             ],
             [
              1,
              "#f0f921"
             ]
            ],
            "type": "contour"
           }
          ],
          "contourcarpet": [
           {
            "colorbar": {
             "outlinewidth": 0,
             "ticks": ""
            },
            "type": "contourcarpet"
           }
          ],
          "heatmap": [
           {
            "colorbar": {
             "outlinewidth": 0,
             "ticks": ""
            },
            "colorscale": [
             [
              0,
              "#0d0887"
             ],
             [
              0.1111111111111111,
              "#46039f"
             ],
             [
              0.2222222222222222,
              "#7201a8"
             ],
             [
              0.3333333333333333,
              "#9c179e"
             ],
             [
              0.4444444444444444,
              "#bd3786"
             ],
             [
              0.5555555555555556,
              "#d8576b"
             ],
             [
              0.6666666666666666,
              "#ed7953"
             ],
             [
              0.7777777777777778,
              "#fb9f3a"
             ],
             [
              0.8888888888888888,
              "#fdca26"
             ],
             [
              1,
              "#f0f921"
             ]
            ],
            "type": "heatmap"
           }
          ],
          "histogram": [
           {
            "marker": {
             "pattern": {
              "fillmode": "overlay",
              "size": 10,
              "solidity": 0.2
             }
            },
            "type": "histogram"
           }
          ],
          "histogram2d": [
           {
            "colorbar": {
             "outlinewidth": 0,
             "ticks": ""
            },
            "colorscale": [
             [
              0,
              "#0d0887"
             ],
             [
              0.1111111111111111,
              "#46039f"
             ],
             [
              0.2222222222222222,
              "#7201a8"
             ],
             [
              0.3333333333333333,
              "#9c179e"
             ],
             [
              0.4444444444444444,
              "#bd3786"
             ],
             [
              0.5555555555555556,
              "#d8576b"
             ],
             [
              0.6666666666666666,
              "#ed7953"
             ],
             [
              0.7777777777777778,
              "#fb9f3a"
             ],
             [
              0.8888888888888888,
              "#fdca26"
             ],
             [
              1,
              "#f0f921"
             ]
            ],
            "type": "histogram2d"
           }
          ],
          "histogram2dcontour": [
           {
            "colorbar": {
             "outlinewidth": 0,
             "ticks": ""
            },
            "colorscale": [
             [
              0,
              "#0d0887"
             ],
             [
              0.1111111111111111,
              "#46039f"
             ],
             [
              0.2222222222222222,
              "#7201a8"
             ],
             [
              0.3333333333333333,
              "#9c179e"
             ],
             [
              0.4444444444444444,
              "#bd3786"
             ],
             [
              0.5555555555555556,
              "#d8576b"
             ],
             [
              0.6666666666666666,
              "#ed7953"
             ],
             [
              0.7777777777777778,
              "#fb9f3a"
             ],
             [
              0.8888888888888888,
              "#fdca26"
             ],
             [
              1,
              "#f0f921"
             ]
            ],
            "type": "histogram2dcontour"
           }
          ],
          "mesh3d": [
           {
            "colorbar": {
             "outlinewidth": 0,
             "ticks": ""
            },
            "type": "mesh3d"
           }
          ],
          "parcoords": [
           {
            "line": {
             "colorbar": {
              "outlinewidth": 0,
              "ticks": ""
             }
            },
            "type": "parcoords"
           }
          ],
          "pie": [
           {
            "automargin": true,
            "type": "pie"
           }
          ],
          "scatter": [
           {
            "fillpattern": {
             "fillmode": "overlay",
             "size": 10,
             "solidity": 0.2
            },
            "type": "scatter"
           }
          ],
          "scatter3d": [
           {
            "line": {
             "colorbar": {
              "outlinewidth": 0,
              "ticks": ""
             }
            },
            "marker": {
             "colorbar": {
              "outlinewidth": 0,
              "ticks": ""
             }
            },
            "type": "scatter3d"
           }
          ],
          "scattercarpet": [
           {
            "marker": {
             "colorbar": {
              "outlinewidth": 0,
              "ticks": ""
             }
            },
            "type": "scattercarpet"
           }
          ],
          "scattergeo": [
           {
            "marker": {
             "colorbar": {
              "outlinewidth": 0,
              "ticks": ""
             }
            },
            "type": "scattergeo"
           }
          ],
          "scattergl": [
           {
            "marker": {
             "colorbar": {
              "outlinewidth": 0,
              "ticks": ""
             }
            },
            "type": "scattergl"
           }
          ],
          "scattermap": [
           {
            "marker": {
             "colorbar": {
              "outlinewidth": 0,
              "ticks": ""
             }
            },
            "type": "scattermap"
           }
          ],
          "scattermapbox": [
           {
            "marker": {
             "colorbar": {
              "outlinewidth": 0,
              "ticks": ""
             }
            },
            "type": "scattermapbox"
           }
          ],
          "scatterpolar": [
           {
            "marker": {
             "colorbar": {
              "outlinewidth": 0,
              "ticks": ""
             }
            },
            "type": "scatterpolar"
           }
          ],
          "scatterpolargl": [
           {
            "marker": {
             "colorbar": {
              "outlinewidth": 0,
              "ticks": ""
             }
            },
            "type": "scatterpolargl"
           }
          ],
          "scatterternary": [
           {
            "marker": {
             "colorbar": {
              "outlinewidth": 0,
              "ticks": ""
             }
            },
            "type": "scatterternary"
           }
          ],
          "surface": [
           {
            "colorbar": {
             "outlinewidth": 0,
             "ticks": ""
            },
            "colorscale": [
             [
              0,
              "#0d0887"
             ],
             [
              0.1111111111111111,
              "#46039f"
             ],
             [
              0.2222222222222222,
              "#7201a8"
             ],
             [
              0.3333333333333333,
              "#9c179e"
             ],
             [
              0.4444444444444444,
              "#bd3786"
             ],
             [
              0.5555555555555556,
              "#d8576b"
             ],
             [
              0.6666666666666666,
              "#ed7953"
             ],
             [
              0.7777777777777778,
              "#fb9f3a"
             ],
             [
              0.8888888888888888,
              "#fdca26"
             ],
             [
              1,
              "#f0f921"
             ]
            ],
            "type": "surface"
           }
          ],
          "table": [
           {
            "cells": {
             "fill": {
              "color": "#EBF0F8"
             },
             "line": {
              "color": "white"
             }
            },
            "header": {
             "fill": {
              "color": "#C8D4E3"
             },
             "line": {
              "color": "white"
             }
            },
            "type": "table"
           }
          ]
         },
         "layout": {
          "annotationdefaults": {
           "arrowcolor": "#2a3f5f",
           "arrowhead": 0,
           "arrowwidth": 1
          },
          "autotypenumbers": "strict",
          "coloraxis": {
           "colorbar": {
            "outlinewidth": 0,
            "ticks": ""
           }
          },
          "colorscale": {
           "diverging": [
            [
             0,
             "#8e0152"
            ],
            [
             0.1,
             "#c51b7d"
            ],
            [
             0.2,
             "#de77ae"
            ],
            [
             0.3,
             "#f1b6da"
            ],
            [
             0.4,
             "#fde0ef"
            ],
            [
             0.5,
             "#f7f7f7"
            ],
            [
             0.6,
             "#e6f5d0"
            ],
            [
             0.7,
             "#b8e186"
            ],
            [
             0.8,
             "#7fbc41"
            ],
            [
             0.9,
             "#4d9221"
            ],
            [
             1,
             "#276419"
            ]
           ],
           "sequential": [
            [
             0,
             "#0d0887"
            ],
            [
             0.1111111111111111,
             "#46039f"
            ],
            [
             0.2222222222222222,
             "#7201a8"
            ],
            [
             0.3333333333333333,
             "#9c179e"
            ],
            [
             0.4444444444444444,
             "#bd3786"
            ],
            [
             0.5555555555555556,
             "#d8576b"
            ],
            [
             0.6666666666666666,
             "#ed7953"
            ],
            [
             0.7777777777777778,
             "#fb9f3a"
            ],
            [
             0.8888888888888888,
             "#fdca26"
            ],
            [
             1,
             "#f0f921"
            ]
           ],
           "sequentialminus": [
            [
             0,
             "#0d0887"
            ],
            [
             0.1111111111111111,
             "#46039f"
            ],
            [
             0.2222222222222222,
             "#7201a8"
            ],
            [
             0.3333333333333333,
             "#9c179e"
            ],
            [
             0.4444444444444444,
             "#bd3786"
            ],
            [
             0.5555555555555556,
             "#d8576b"
            ],
            [
             0.6666666666666666,
             "#ed7953"
            ],
            [
             0.7777777777777778,
             "#fb9f3a"
            ],
            [
             0.8888888888888888,
             "#fdca26"
            ],
            [
             1,
             "#f0f921"
            ]
           ]
          },
          "colorway": [
           "#636efa",
           "#EF553B",
           "#00cc96",
           "#ab63fa",
           "#FFA15A",
           "#19d3f3",
           "#FF6692",
           "#B6E880",
           "#FF97FF",
           "#FECB52"
          ],
          "font": {
           "color": "#2a3f5f"
          },
          "geo": {
           "bgcolor": "white",
           "lakecolor": "white",
           "landcolor": "#E5ECF6",
           "showlakes": true,
           "showland": true,
           "subunitcolor": "white"
          },
          "hoverlabel": {
           "align": "left"
          },
          "hovermode": "closest",
          "mapbox": {
           "style": "light"
          },
          "paper_bgcolor": "white",
          "plot_bgcolor": "#E5ECF6",
          "polar": {
           "angularaxis": {
            "gridcolor": "white",
            "linecolor": "white",
            "ticks": ""
           },
           "bgcolor": "#E5ECF6",
           "radialaxis": {
            "gridcolor": "white",
            "linecolor": "white",
            "ticks": ""
           }
          },
          "scene": {
           "xaxis": {
            "backgroundcolor": "#E5ECF6",
            "gridcolor": "white",
            "gridwidth": 2,
            "linecolor": "white",
            "showbackground": true,
            "ticks": "",
            "zerolinecolor": "white"
           },
           "yaxis": {
            "backgroundcolor": "#E5ECF6",
            "gridcolor": "white",
            "gridwidth": 2,
            "linecolor": "white",
            "showbackground": true,
            "ticks": "",
            "zerolinecolor": "white"
           },
           "zaxis": {
            "backgroundcolor": "#E5ECF6",
            "gridcolor": "white",
            "gridwidth": 2,
            "linecolor": "white",
            "showbackground": true,
            "ticks": "",
            "zerolinecolor": "white"
           }
          },
          "shapedefaults": {
           "line": {
            "color": "#2a3f5f"
           }
          },
          "ternary": {
           "aaxis": {
            "gridcolor": "white",
            "linecolor": "white",
            "ticks": ""
           },
           "baxis": {
            "gridcolor": "white",
            "linecolor": "white",
            "ticks": ""
           },
           "bgcolor": "#E5ECF6",
           "caxis": {
            "gridcolor": "white",
            "linecolor": "white",
            "ticks": ""
           }
          },
          "title": {
           "x": 0.05
          },
          "xaxis": {
           "automargin": true,
           "gridcolor": "white",
           "linecolor": "white",
           "ticks": "",
           "title": {
            "standoff": 15
           },
           "zerolinecolor": "white",
           "zerolinewidth": 2
          },
          "yaxis": {
           "automargin": true,
           "gridcolor": "white",
           "linecolor": "white",
           "ticks": "",
           "title": {
            "standoff": 15
           },
           "zerolinecolor": "white",
           "zerolinewidth": 2
          }
         }
        },
        "title": {
         "text": "🌲 Treemap: District → Sector"
        },
        "treemapcolorway": [
         "rgb(141,211,199)",
         "rgb(255,255,179)",
         "rgb(190,186,218)",
         "rgb(251,128,114)",
         "rgb(128,177,211)",
         "rgb(253,180,98)",
         "rgb(179,222,105)",
         "rgb(252,205,229)",
         "rgb(217,217,217)",
         "rgb(188,128,189)",
         "rgb(204,235,197)",
         "rgb(255,237,111)"
        ]
       }
      }
     },
     "metadata": {},
     "output_type": "display_data"
    }
   ],
   "source": [
    "import pandas as pd\n",
    "import plotly.express as px\n",
    "\n",
    "# Load and clean dataset\n",
    "df = pd.read_csv(r\"C:\\Users\\vansh\\Downloads\\kisaan.csv\")\n",
    "df.drop(columns=['Season'], inplace=True, errors='ignore')\n",
    "df.dropna(subset=['Sector', 'DistrictName', 'StateName'], inplace=True)\n",
    "\n",
    "# -------------------------------------\n",
    "# 1️⃣ Top 10 Districts with Most Grievances (Horizontal Bar)\n",
    "# -------------------------------------\n",
    "top_districts = df['DistrictName'].value_counts().nlargest(10)\n",
    "\n",
    "fig_top_districts = px.bar(\n",
    "    top_districts.sort_values(), \n",
    "    x=top_districts.values, \n",
    "    y=top_districts.index, \n",
    "    orientation='h',\n",
    "    labels={'x': 'Number of Grievances', 'y': 'District'},\n",
    "    title='🏙️ Top 10 Districts with Most Grievances',\n",
    "    color=top_districts.values,\n",
    "    color_continuous_scale='Oranges'\n",
    ")\n",
    "\n",
    "fig_top_districts.show()\n",
    "\n",
    "# -------------------------------------\n",
    "# 2️⃣ District-wise Grievance Heatmap\n",
    "# -------------------------------------\n",
    "district_state = df.groupby(['StateName', 'DistrictName']).size().reset_index(name='Count')\n",
    "\n",
    "fig_heatmap = px.density_heatmap(\n",
    "    district_state,\n",
    "    x='StateName',\n",
    "    y='DistrictName',\n",
    "    z='Count',\n",
    "    title='🗺️ District-wise Grievance Heatmap',\n",
    "    color_continuous_scale='Blues'\n",
    ")\n",
    "\n",
    "fig_heatmap.show()\n",
    "\n",
    "# -------------------------------------\n",
    "# 3️⃣ Treemap: District → Sector\n",
    "# -------------------------------------\n",
    "fig_treemap = px.treemap(\n",
    "    df,\n",
    "    path=['DistrictName', 'Sector'],\n",
    "    title='🌲 Treemap: District → Sector',\n",
    "    color_discrete_sequence=px.colors.qualitative.Set3\n",
    ")\n",
    "\n",
    "fig_treemap.show()\n",
    "\n"
   ]
  },
  {
   "cell_type": "code",
   "execution_count": null,
   "id": "ff6bfb63",
   "metadata": {},
   "outputs": [],
   "source": []
  }
 ],
 "metadata": {
  "kernelspec": {
   "display_name": "base",
   "language": "python",
   "name": "python3"
  },
  "language_info": {
   "codemirror_mode": {
    "name": "ipython",
    "version": 3
   },
   "file_extension": ".py",
   "mimetype": "text/x-python",
   "name": "python",
   "nbconvert_exporter": "python",
   "pygments_lexer": "ipython3",
   "version": "3.12.9"
  }
 },
 "nbformat": 4,
 "nbformat_minor": 5
}
